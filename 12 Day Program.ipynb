{
 "cells": [
  {
   "cell_type": "markdown",
   "id": "263f2fd8",
   "metadata": {},
   "source": [
    "# Day 4: Pandas"
   ]
  },
  {
   "cell_type": "code",
   "execution_count": 194,
   "id": "83f3e09d",
   "metadata": {},
   "outputs": [],
   "source": [
    "# Read CSV file of Value of Energy Cost Saving Program for Businesses in NY City"
   ]
  },
  {
   "cell_type": "code",
   "execution_count": 195,
   "id": "d98aeac8",
   "metadata": {},
   "outputs": [],
   "source": [
    "import pandas as pd\n",
    "\n",
    "df = pd.read_csv('Value_of_Energy_Cost_Savings_Program_Savings_for_Businesses_-_FY2020.csv')"
   ]
  },
  {
   "cell_type": "code",
   "execution_count": 196,
   "id": "facd9184",
   "metadata": {},
   "outputs": [
    {
     "name": "stdout",
     "output_type": "stream",
     "text": [
      "<class 'pandas.core.frame.DataFrame'>\n",
      "RangeIndex: 450 entries, 0 to 449\n",
      "Data columns (total 26 columns):\n",
      " #   Column                                     Non-Null Count  Dtype  \n",
      "---  ------                                     --------------  -----  \n",
      " 0   Company Name                               450 non-null    object \n",
      " 1   company contact                            450 non-null    object \n",
      " 2   company email                              433 non-null    object \n",
      " 3   company phone                              450 non-null    object \n",
      " 4   Address                                    450 non-null    object \n",
      " 5   City                                       450 non-null    object \n",
      " 6   State                                      450 non-null    object \n",
      " 7   Postcode                                   450 non-null    int64  \n",
      " 8   Industry                                   450 non-null    object \n",
      " 9   Industry descr                             434 non-null    object \n",
      " 10  Company Type                               450 non-null    object \n",
      " 11  Current fulltime                           446 non-null    float64\n",
      " 12  Job created                                11 non-null     float64\n",
      " 13  Job retain                                 14 non-null     float64\n",
      " 14  Effective Date                             450 non-null    object \n",
      " 15  Total Savings                              450 non-null    float64\n",
      " 16  Savings from beginning receiving benefits  450 non-null    float64\n",
      " 17  Borough                                    450 non-null    object \n",
      " 18  Latitude                                   409 non-null    float64\n",
      " 19  Longitude                                  409 non-null    float64\n",
      " 20  Community Board                            409 non-null    float64\n",
      " 21  Council District                           409 non-null    float64\n",
      " 22  Census Tract                               409 non-null    float64\n",
      " 23  BIN                                        401 non-null    float64\n",
      " 24  BBL                                        401 non-null    float64\n",
      " 25  NTA                                        409 non-null    object \n",
      "dtypes: float64(12), int64(1), object(13)\n",
      "memory usage: 91.5+ KB\n",
      "None\n"
     ]
    }
   ],
   "source": [
    "print(df.info())"
   ]
  },
  {
   "cell_type": "code",
   "execution_count": 197,
   "id": "6bd7f923",
   "metadata": {},
   "outputs": [
    {
     "name": "stdout",
     "output_type": "stream",
     "text": [
      "                               Company Name    company contact  \\\n",
      "0                            1 State Street      David Neiburg   \n",
      "1                            100 Church LLC  Edward A. Carroll   \n",
      "2                      100 Wall Investments       Jerry Branam   \n",
      "3               1-10 Bush Terminal Owner LP     Andrew Kimball   \n",
      "4  120 Broadway Acquisitions JV, LLC (Ldmk)        Carl Letich   \n",
      "\n",
      "               company email company phone                Address      City  \\\n",
      "0     eskoblo@energyspec.com    7186779077          1114 Avenue J  Brooklyn   \n",
      "1                        NaN    2125663000      100 Church Street        NY   \n",
      "2                        NaN    2122487160         96 Wall Street  New York   \n",
      "3  akimball@industrycity.com    3474178429  220 36th St, Suite 2A  Brooklyn   \n",
      "4      clettich@silvprop.com    2124064020           120 Broadway  New York   \n",
      "\n",
      "  State  Postcode    Industry  \\\n",
      "0    NY     11230  Commercial   \n",
      "1    NY     10007  Commercial   \n",
      "2    NY     10005    Landlord   \n",
      "3    NY     11232    Landlord   \n",
      "4    NY     10271  Commercial   \n",
      "\n",
      "                                      Industry descr  ...  \\\n",
      "0                                  35 story building  ...   \n",
      "1                                          21 Floors  ...   \n",
      "2                                                NaN  ...   \n",
      "3  Special Eligible Premises for eligible businesses  ...   \n",
      "4                                                NaN  ...   \n",
      "\n",
      "  Savings from beginning receiving benefits   Borough   Latitude  Longitude  \\\n",
      "0                                    349.78  Brooklyn  40.624784 -73.964920   \n",
      "1                                4423698.05  New York  40.712968 -74.009490   \n",
      "2                                1814542.62  New York  40.705052 -74.007199   \n",
      "3                                   6755.31  Brooklyn  40.656061 -74.007334   \n",
      "4                                3293055.08  New York  40.708546 -74.011041   \n",
      "\n",
      "  Community Board  Council District  Census Tract        BIN           BBL  \\\n",
      "0           314.0              44.0         534.0  3179818.0  3.067130e+09   \n",
      "1           101.0               1.0          21.0  1001409.0  1.001250e+09   \n",
      "2           101.0               1.0           7.0  1000875.0  1.000380e+09   \n",
      "3           307.0              38.0           2.0  3398687.0  3.006950e+09   \n",
      "4           101.0               1.0           7.0  1001026.0  1.000478e+09   \n",
      "\n",
      "                                      NTA  \n",
      "0                                 Midwood  \n",
      "1  SoHo-TriBeCa-Civic Center-Little Italy  \n",
      "2       Battery Park City-Lower Manhattan  \n",
      "3                        Sunset Park West  \n",
      "4       Battery Park City-Lower Manhattan  \n",
      "\n",
      "[5 rows x 26 columns]\n"
     ]
    }
   ],
   "source": [
    "print(df.head())"
   ]
  },
  {
   "cell_type": "markdown",
   "id": "1f715ffd",
   "metadata": {},
   "source": [
    "### 1. How many different companies are represented in the data set?"
   ]
  },
  {
   "cell_type": "code",
   "execution_count": 198,
   "id": "4c86115a",
   "metadata": {},
   "outputs": [
    {
     "name": "stdout",
     "output_type": "stream",
     "text": [
      "439\n"
     ]
    }
   ],
   "source": [
    "num_of_companies = len((df['Company Name'].drop_duplicates()))\n",
    "print(num_of_companies)"
   ]
  },
  {
   "cell_type": "markdown",
   "id": "aaf841a0",
   "metadata": {},
   "source": [
    "### 2. What is the total number of jobs created for businesses in Queens?"
   ]
  },
  {
   "cell_type": "code",
   "execution_count": 199,
   "id": "59227706",
   "metadata": {},
   "outputs": [
    {
     "name": "stdout",
     "output_type": "stream",
     "text": [
      "90.0\n"
     ]
    }
   ],
   "source": [
    "num_of_jobs_created_in_queens = df[df['City']=='Queens']['Job created'].sum()\n",
    "print(num_of_jobs_created_in_queens)"
   ]
  },
  {
   "cell_type": "markdown",
   "id": "981a0d79",
   "metadata": {},
   "source": [
    "### 3. How many different unique email domains names are there in the data set?"
   ]
  },
  {
   "cell_type": "code",
   "execution_count": 200,
   "id": "8b5a3c80",
   "metadata": {},
   "outputs": [
    {
     "name": "stdout",
     "output_type": "stream",
     "text": [
      "356\n"
     ]
    }
   ],
   "source": [
    "num_of_unique_email_domains = df['company email'].dropna().str.split('@',expand=True)[1].nunique()\n",
    "print(num_of_unique_email_domains)"
   ]
  },
  {
   "cell_type": "markdown",
   "id": "ee6ea69f",
   "metadata": {},
   "source": [
    "### 4. Considering only NTAs with at least 5 listed businesses, what is the average total savings and the total jobs created for each NTA?"
   ]
  },
  {
   "cell_type": "code",
   "execution_count": 201,
   "id": "0884ccbc",
   "metadata": {
    "scrolled": false
   },
   "outputs": [
    {
     "name": "stdout",
     "output_type": "stream",
     "text": [
      "                                                  Total Savings\n",
      "NTA                                                            \n",
      "Battery Park City-Lower Manhattan                 469890.796667\n",
      "Bushwick South                                     26140.455000\n",
      "Carroll Gardens-Columbia Street-Red Hook           24337.390000\n",
      "College Point                                      17159.372857\n",
      "Crown Heights North                                 4036.298889\n",
      "DUMBO-Vinegar Hill-Downtown Brooklyn-Boerum Hill   59950.340000\n",
      "East New York                                      48433.093333\n",
      "East Williamsburg                                  13990.626364\n",
      "Greenpoint                                          9753.649286\n",
      "Hunters Point-Sunnyside-West Maspeth               23931.398933\n",
      "Hunts Point                                        39246.016154\n",
      "Manhattanville                                      2760.888889\n",
      "Maspeth                                             6658.283333\n",
      "Mott Haven-Port Morris                             17843.937857\n",
      "Queensbridge-Ravenswood-Long Island City           61830.770625\n",
      "SoHo-TriBeCa-Civic Center-Little Italy             37214.024000\n",
      "Springfield Gardens South-Brookville               17757.662000\n",
      "Steinway                                           11227.155714\n",
      "Sunset Park West                                   14316.976875\n",
      "park-cemetery-etc-Brooklyn                         14327.419333\n",
      "                                                  Job created\n",
      "NTA                                                          \n",
      "Battery Park City-Lower Manhattan                         NaN\n",
      "Bushwick South                                      10.000000\n",
      "Carroll Gardens-Columbia Street-Red Hook                  NaN\n",
      "College Point                                        2.000000\n",
      "Crown Heights North                                       NaN\n",
      "DUMBO-Vinegar Hill-Downtown Brooklyn-Boerum Hill          NaN\n",
      "East New York                                       15.000000\n",
      "East Williamsburg                                         NaN\n",
      "Greenpoint                                                NaN\n",
      "Hunters Point-Sunnyside-West Maspeth                      NaN\n",
      "Hunts Point                                         12.000000\n",
      "Manhattanville                                            NaN\n",
      "Maspeth                                             10.000000\n",
      "Mott Haven-Port Morris                               3.333333\n",
      "Queensbridge-Ravenswood-Long Island City                  NaN\n",
      "SoHo-TriBeCa-Civic Center-Little Italy                    NaN\n",
      "Springfield Gardens South-Brookville                      NaN\n",
      "Steinway                                            20.000000\n",
      "Sunset Park West                                          NaN\n",
      "park-cemetery-etc-Brooklyn                                NaN\n"
     ]
    }
   ],
   "source": [
    "\n",
    "sub_dict = df.groupby(\"NTA\")[\"Company Name\"].apply(list).to_dict()\n",
    "\n",
    "for key, value in sub_dict.items():\n",
    "    sub_dict[key] = list(set(value))\n",
    "\n",
    "NTA_greater_than_5 = []\n",
    "\n",
    "for key, value in sub_dict.items():\n",
    "    if len(value) >= 5:\n",
    "        NTA_greater_than_5.append(key)\n",
    "        \n",
    "total_savings = df[df['NTA'].isin(NTA_greater_than_5)]\n",
    "\n",
    "Total_savings_avg = total_savings.groupby('NTA')['Total Savings'].mean().to_frame().sort_values(by=['NTA'])\n",
    "\n",
    "Total_jobs_created_avg = total_savings.groupby('NTA')['Job created'].mean().to_frame().sort_values(by=['NTA'])\n",
    "\n",
    "print(Total_savings_avg)\n",
    "\n",
    "print(Total_jobs_created_avg)\n"
   ]
  },
  {
   "cell_type": "markdown",
   "id": "8d0d201e",
   "metadata": {},
   "source": [
    "### 5. Save your result for the previous question as a CSV file."
   ]
  },
  {
   "cell_type": "code",
   "execution_count": 202,
   "id": "3fa4d4d8",
   "metadata": {},
   "outputs": [
    {
     "name": "stdout",
     "output_type": "stream",
     "text": [
      "                                                  Total Savings  Job created\n",
      "NTA                                                                         \n",
      "Battery Park City-Lower Manhattan                 469890.796667          NaN\n",
      "Bushwick South                                     26140.455000    10.000000\n",
      "Carroll Gardens-Columbia Street-Red Hook           24337.390000          NaN\n",
      "College Point                                      17159.372857     2.000000\n",
      "Crown Heights North                                 4036.298889          NaN\n",
      "DUMBO-Vinegar Hill-Downtown Brooklyn-Boerum Hill   59950.340000          NaN\n",
      "East New York                                      48433.093333    15.000000\n",
      "East Williamsburg                                  13990.626364          NaN\n",
      "Greenpoint                                          9753.649286          NaN\n",
      "Hunters Point-Sunnyside-West Maspeth               23931.398933          NaN\n",
      "Hunts Point                                        39246.016154    12.000000\n",
      "Manhattanville                                      2760.888889          NaN\n",
      "Maspeth                                             6658.283333    10.000000\n",
      "Mott Haven-Port Morris                             17843.937857     3.333333\n",
      "Queensbridge-Ravenswood-Long Island City           61830.770625          NaN\n",
      "SoHo-TriBeCa-Civic Center-Little Italy             37214.024000          NaN\n",
      "Springfield Gardens South-Brookville               17757.662000          NaN\n",
      "Steinway                                           11227.155714    20.000000\n",
      "Sunset Park West                                   14316.976875          NaN\n",
      "park-cemetery-etc-Brooklyn                         14327.419333          NaN\n"
     ]
    }
   ],
   "source": [
    "final_df = pd.merge(Total_savings_avg,Total_jobs_created_avg,on=['NTA'])\n",
    "\n",
    "print(final_df)"
   ]
  },
  {
   "cell_type": "code",
   "execution_count": 203,
   "id": "43b3b6f0",
   "metadata": {},
   "outputs": [],
   "source": [
    "final_df.to_csv('Day_4_HW.csv')"
   ]
  },
  {
   "cell_type": "markdown",
   "id": "753ad104",
   "metadata": {},
   "source": [
    "# Day 5: Plotting"
   ]
  },
  {
   "cell_type": "markdown",
   "id": "dbd8d359",
   "metadata": {},
   "source": [
    "### 1. scatter plot of jobs created versus average savings. Use both a standard and a logarithmic scale for the average savings."
   ]
  },
  {
   "cell_type": "code",
   "execution_count": 213,
   "id": "c3f88768",
   "metadata": {},
   "outputs": [
    {
     "data": {
      "image/png": "[encoded data removed]",
      "text/plain": [
       "<Figure size 640x480 with 1 Axes>"
      ]
     },
     "metadata": {},
     "output_type": "display_data"
    }
   ],
   "source": [
    "import matplotlib.pyplot as plt\n",
    "\n",
    "plt.scatter(df['Total Savings'],df['Job created'])\n",
    "plt.xlabel('Total Savings')\n",
    "plt.ylabel('Jobs Created')\n",
    "plt.show()"
   ]
  },
  {
   "cell_type": "code",
   "execution_count": 214,
   "id": "ddf6c2c1",
   "metadata": {},
   "outputs": [
    {
     "data": {
      "image/png": "[encoded data removed]",
      "text/plain": [
       "<Figure size 640x480 with 1 Axes>"
      ]
     },
     "metadata": {},
     "output_type": "display_data"
    }
   ],
   "source": [
    "plt.scatter(df['Total Savings'],df['Job created'])\n",
    "plt.xlabel('Total Savings (log)')\n",
    "plt.ylabel('Jobs Created')\n",
    "plt.xscale('log')\n",
    "\n",
    "plt.show()"
   ]
  },
  {
   "cell_type": "markdown",
   "id": "be90ada1",
   "metadata": {},
   "source": [
    "### 2. histogram of the log of the average total savings."
   ]
  },
  {
   "cell_type": "code",
   "execution_count": 218,
   "id": "262be465",
   "metadata": {},
   "outputs": [
    {
     "data": {
      "image/png": "[encoded data removed]",
      "text/plain": [
       "<Figure size 640x480 with 1 Axes>"
      ]
     },
     "metadata": {},
     "output_type": "display_data"
    }
   ],
   "source": [
    "plt.hist(df['Total Savings'], bins=1000)\n",
    "plt.xlabel('Total Savings (log)')\n",
    "plt.xscale('log')\n",
    "plt.show()"
   ]
  },
  {
   "cell_type": "markdown",
   "id": "24f347b0",
   "metadata": {},
   "source": [
    "### 3. line plot of the total jobs created for each month."
   ]
  },
  {
   "cell_type": "code",
   "execution_count": 262,
   "id": "ea6010a3",
   "metadata": {},
   "outputs": [
    {
     "name": "stdout",
     "output_type": "stream",
     "text": [
      "    Effective Date  Job created\n",
      "120     02/03/2005         12.0\n",
      "414     02/05/1993         15.0\n",
      "137     03/01/2006         10.0\n",
      "29      03/05/2004         10.0\n",
      "353     04/10/2007          2.0\n",
      "325     05/02/2007          2.0\n",
      "432     06/08/2007          3.0\n",
      "37      06/28/2007         60.0\n",
      "433     07/02/2007         20.0\n",
      "95      11/06/2007          5.0\n",
      "445     12/09/2008         10.0\n"
     ]
    },
    {
     "data": {
      "image/png": "[encoded data removed]",
      "text/plain": [
       "<Figure size 640x480 with 1 Axes>"
      ]
     },
     "metadata": {},
     "output_type": "display_data"
    }
   ],
   "source": [
    "sub_df = df[df.index.isin(df['Job created'].dropna().to_frame().index)][['Effective Date','Job created']].sort_values(by=['Effective Date'])\n",
    "\n",
    "print(sub_df)\n",
    "\n",
    "x = pd.DatetimeIndex(sub_df['Effective Date']).month\n",
    "y = sub_df['Job created']\n",
    "\n",
    "plt.plot(x,y)\n",
    "\n",
    "plt.show()"
   ]
  }
 ],
 "metadata": {
  "kernelspec": {
   "display_name": "Python3",
   "language": "python",
   "name": "python3"
  },
  "language_info": {
   "codemirror_mode": {
    "name": "ipython",
    "version": 3
   },
   "file_extension": ".py",
   "mimetype": "text/x-python",
   "name": "python",
   "nbconvert_exporter": "python",
   "pygments_lexer": "ipython3",
   "version": "3.10.8"
  }
 },
 "nbformat": 4,
 "nbformat_minor": 5
}
